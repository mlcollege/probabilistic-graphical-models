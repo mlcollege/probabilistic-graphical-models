{
  "nbformat": 4,
  "nbformat_minor": 0,
  "metadata": {
    "colab": {
      "name": "02-clustering-edward.ipynb",
      "provenance": []
    },
    "kernelspec": {
      "name": "python2",
      "display_name": "Python 2"
    },
    "language_info": {
      "name": "python"
    }
  },
  "cells": [
    {
      "cell_type": "markdown",
      "metadata": {
        "id": "hPAJp_xE1SEg"
      },
      "source": [
        "# Gaussian mixture approach to clustering"
      ]
    },
    {
      "cell_type": "markdown",
      "metadata": {
        "id": "Yf3PEqDL1XK0"
      },
      "source": [
        "## Install edward"
      ]
    },
    {
      "cell_type": "code",
      "metadata": {
        "id": "0Q4klEAJ1Ube"
      },
      "source": [
        "!pip install tensorflow==1.5.0\n",
        "!pip install edward"
      ],
      "execution_count": null,
      "outputs": []
    },
    {
      "cell_type": "markdown",
      "metadata": {
        "id": "s2fqk1dS1c1n"
      },
      "source": [
        "## Generate artificial data set"
      ]
    },
    {
      "cell_type": "code",
      "metadata": {
        "id": "-5gh588t1ZuD"
      },
      "source": [
        "import numpy as np\n",
        "import matplotlib.pyplot as plt\n",
        "\n",
        "N = 500  # number of data points\n",
        "K = 2  # number of components\n",
        "D = 2  # dimensionality of data\n",
        "\n",
        "pi = np.array([0.4, 0.6])\n",
        "mus = [[1, 1], [-1, -1]]\n",
        "stds = [[0.1, 0.1], [0.1, 0.1]]\n",
        "x_train = np.zeros((N, 2), dtype=np.float32)\n",
        "for n in range(N):\n",
        "  k = np.argmax(np.random.multinomial(1, pi))\n",
        "  x_train[n, :] = np.random.multivariate_normal(mus[k], np.diag(stds[k]))"
      ],
      "execution_count": 2,
      "outputs": []
    },
    {
      "cell_type": "code",
      "metadata": {
        "colab": {
          "base_uri": "https://localhost:8080/",
          "height": 281
        },
        "id": "kNIXbXz51nAl",
        "outputId": "94877d11-7cad-4437-bf7e-be4bc74a6d2f"
      },
      "source": [
        "plt.scatter(x_train[:, 0], x_train[:, 1])\n",
        "plt.axis([-3, 3, -3, 3])\n",
        "plt.title(\"Simulated dataset\")\n",
        "plt.show()"
      ],
      "execution_count": 3,
      "outputs": [
        {
          "output_type": "display_data",
          "data": {
            "image/png": "[encoded data removed]",
            "text/plain": [
              "<Figure size 432x288 with 1 Axes>"
            ]
          },
          "metadata": {
            "tags": [],
            "needs_background": "light"
          }
        }
      ]
    },
    {
      "cell_type": "markdown",
      "metadata": {
        "id": "pGO9WUsl1uoq"
      },
      "source": [
        "## Define the generative model"
      ]
    },
    {
      "cell_type": "code",
      "metadata": {
        "id": "i-Wia0_F1prK"
      },
      "source": [
        "from edward.models import Dirichlet, InverseGamma, MultivariateNormalDiag, Normal, ParamMixture\n",
        "import tensorflow as tf\n",
        "\n",
        "pi = Dirichlet(tf.ones(K))\n",
        "mu = Normal(tf.zeros(D), tf.ones(D), sample_shape=K)\n",
        "sigmasq = InverseGamma(tf.ones(D), tf.ones(D), sample_shape=K)\n",
        "x = ParamMixture(pi, {'loc': mu, 'scale_diag': tf.sqrt(sigmasq)},\n",
        "                 MultivariateNormalDiag,\n",
        "                 sample_shape=N)\n",
        "z = x.cat"
      ],
      "execution_count": 4,
      "outputs": []
    },
    {
      "cell_type": "markdown",
      "metadata": {
        "id": "id3BtE7n115b"
      },
      "source": [
        "## Gibbs sampling\n",
        "\n",
        "To be able to do Gibbs sampling in Edward we need to define Empricial distributions for our posteriors."
      ]
    },
    {
      "cell_type": "code",
      "metadata": {
        "id": "g05Q50QN1xWN"
      },
      "source": [
        "import edward as ed\n",
        "from edward.models import Empirical\n",
        "\n",
        "T = 1000  # number of samples\n",
        "\n",
        "qpi = Empirical(tf.get_variable(\n",
        "    \"qpi/params\", [T, K],\n",
        "    initializer=tf.constant_initializer(1.0 / K)))\n",
        "qmu = Empirical(tf.get_variable(\n",
        "    \"qmu/params\", [T, K, D],\n",
        "    initializer=tf.zeros_initializer()))\n",
        "qsigmasq = Empirical(tf.get_variable(\n",
        "    \"qsigmasq/params\", [T, K, D],\n",
        "    initializer=tf.ones_initializer()))\n",
        "qz = Empirical(tf.get_variable(\n",
        "    \"qz/params\", [T, N],\n",
        "    initializer=tf.zeros_initializer(),\n",
        "    dtype=tf.int32))"
      ],
      "execution_count": 5,
      "outputs": []
    },
    {
      "cell_type": "markdown",
      "metadata": {
        "id": "SlA-ciSf1-S6"
      },
      "source": [
        "Run the Gibbs sampling."
      ]
    },
    {
      "cell_type": "code",
      "metadata": {
        "id": "synnPdyq15k-"
      },
      "source": [
        "inference = ed.Gibbs({pi: qpi, mu: qmu, sigmasq: qsigmasq, z: qz}, data={x: x_train})\n",
        "\n",
        "inference.run()\n"
      ],
      "execution_count": null,
      "outputs": []
    },
    {
      "cell_type": "markdown",
      "metadata": {
        "id": "fO0gY5_t2Jvv"
      },
      "source": [
        "Sample from the mean posterior and estimate cluster centres."
      ]
    },
    {
      "cell_type": "code",
      "metadata": {
        "id": "X69YXRgc2BMv"
      },
      "source": [
        "cluster_means = tf.reduce_mean(qmu.sample(1000), 0).eval()\n",
        "print(cluster_means)"
      ],
      "execution_count": null,
      "outputs": []
    }
  ]
}