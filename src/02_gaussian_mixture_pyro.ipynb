{
  "nbformat": 4,
  "nbformat_minor": 0,
  "metadata": {
    "colab": {
      "name": "02-gaussian-mixture-pyro.ipynb",
      "provenance": [],
      "collapsed_sections": []
    },
    "kernelspec": {
      "name": "python3",
      "display_name": "Python 3"
    },
    "language_info": {
      "name": "python"
    }
  },
  "cells": [
    {
      "cell_type": "code",
      "execution_count": 1,
      "metadata": {
        "colab": {
          "base_uri": "https://localhost:8080/"
        },
        "id": "c0UQcMO7-5FM",
        "outputId": "21e4d947-cbf6-4c37-dfb0-eb91aad07656"
      },
      "outputs": [
        {
          "output_type": "stream",
          "name": "stdout",
          "text": [
            "Requirement already satisfied: pyro-ppl in /usr/local/lib/python3.7/dist-packages (1.8.0)\n",
            "Requirement already satisfied: torch>=1.9.0 in /usr/local/lib/python3.7/dist-packages (from pyro-ppl) (1.10.0+cu111)\n",
            "Requirement already satisfied: pyro-api>=0.1.1 in /usr/local/lib/python3.7/dist-packages (from pyro-ppl) (0.1.2)\n",
            "Requirement already satisfied: numpy>=1.7 in /usr/local/lib/python3.7/dist-packages (from pyro-ppl) (1.19.5)\n",
            "Requirement already satisfied: opt-einsum>=2.3.2 in /usr/local/lib/python3.7/dist-packages (from pyro-ppl) (3.3.0)\n",
            "Requirement already satisfied: tqdm>=4.36 in /usr/local/lib/python3.7/dist-packages (from pyro-ppl) (4.62.3)\n",
            "Requirement already satisfied: typing-extensions in /usr/local/lib/python3.7/dist-packages (from torch>=1.9.0->pyro-ppl) (3.10.0.2)\n"
          ]
        }
      ],
      "source": [
        "!pip3 install pyro-ppl "
      ]
    },
    {
      "cell_type": "code",
      "source": [
        "import os\n",
        "import torch\n",
        "import pyro\n",
        "import logging\n",
        "import matplotlib.pyplot as plt"
      ],
      "metadata": {
        "id": "9D1rJRWW_EMQ"
      },
      "execution_count": 2,
      "outputs": []
    },
    {
      "cell_type": "code",
      "source": [
        "%matplotlib inline\n",
        "plt.style.use('default')\n",
        "logging.basicConfig(format='%(message)s', level=logging.INFO)"
      ],
      "metadata": {
        "id": "43nO18He_GLk"
      },
      "execution_count": 3,
      "outputs": []
    },
    {
      "cell_type": "markdown",
      "source": [
        "## Generate artificial data set\n"
      ],
      "metadata": {
        "id": "zvKgRPml_U-f"
      }
    },
    {
      "cell_type": "code",
      "source": [
        "import numpy as np\n",
        "\n",
        "N = 500  # number of data points\n",
        "K = 2  # number of components\n",
        "\n",
        "pi = np.array([0.4, 0.6])\n",
        "mus = [1, -1]\n",
        "stds = [0.1,0.3]\n",
        "x_train = np.zeros(N, dtype=np.float32)\n",
        "for n in range(N):\n",
        "  k = np.argmax(np.random.multinomial(1, pi))\n",
        "  x_train[n] = np.random.normal(mus[k], stds[k])\n",
        "\n",
        "x_train = torch.tensor(x_train, dtype=torch.float)"
      ],
      "metadata": {
        "id": "5DKWzvTj_I4T"
      },
      "execution_count": 4,
      "outputs": []
    },
    {
      "cell_type": "code",
      "source": [
        "num_bins = 100\n",
        "n, bins, patches = plt.hist(x_train, num_bins, facecolor='blue', alpha=0.5)\n",
        "plt.show()"
      ],
      "metadata": {
        "colab": {
          "base_uri": "https://localhost:8080/",
          "height": 430
        },
        "id": "NHKVJy6F_cL6",
        "outputId": "4546bd50-3d55-43e9-f2d3-a782a8a972b0"
      },
      "execution_count": 5,
      "outputs": [
        {
          "output_type": "display_data",
          "data": {
            "image/png": "[encoded data removed]",
            "text/plain": [
              "<Figure size 640x480 with 1 Axes>"
            ]
          },
          "metadata": {}
        }
      ]
    },
    {
      "cell_type": "code",
      "source": [
        "import pyro.distributions as dist\n",
        "\n",
        "def model(data):\n",
        "    # Global variables.\n",
        "    weights = pyro.sample('weights', dist.Dirichlet(torch.ones(K)))\n",
        "    with pyro.plate('components', K):\n",
        "        locs = pyro.sample('locs', dist.Normal(0., 10.))\n",
        "        scale = pyro.sample('scale', dist.LogNormal(0., 2.))\n",
        "\n",
        "    with pyro.plate('data', len(data)):\n",
        "        # Local variables.\n",
        "        assignment = pyro.sample('assignment', dist.Categorical(weights))\n",
        "        return pyro.sample('obs', dist.Normal(locs[assignment], scale[assignment]), obs=data)"
      ],
      "metadata": {
        "id": "T2-vwqHx_jHh"
      },
      "execution_count": 6,
      "outputs": []
    },
    {
      "cell_type": "code",
      "source": [
        "pyro.render_model(model, model_args=(x_train,))"
      ],
      "metadata": {
        "colab": {
          "base_uri": "https://localhost:8080/",
          "height": 328
        },
        "id": "1PCBhIiv3Nza",
        "outputId": "ba51ad14-ebe2-4d84-b5f2-e1b62d2e0be0"
      },
      "execution_count": 7,
      "outputs": [
        {
          "output_type": "execute_result",
          "data": {
            "text/plain": [
              "<graphviz.dot.Digraph at 0x7f3c0b152710>"
            ],
            "image/svg+xml": "<?xml version=\"1.0\" encoding=\"UTF-8\" standalone=\"no\"?>\n<!DOCTYPE svg PUBLIC \"-//W3C//DTD SVG 1.1//EN\"\n \"http://www.w3.org/Graphics/SVG/1.1/DTD/svg11.dtd\">\n<!-- Generated by graphviz version 2.40.1 (20161225.0304)\n -->\n<!-- Title: %3 Pages: 1 -->\n<svg width=\"298pt\" height=\"230pt\"\n viewBox=\"0.00 0.00 298.00 230.00\" xmlns=\"http://www.w3.org/2000/svg\" xmlns:xlink=\"http://www.w3.org/1999/xlink\">\n<g id=\"graph0\" class=\"graph\" transform=\"scale(1 1) rotate(0) translate(4 226)\">\n<title>%3</title>\n<polygon fill=\"#ffffff\" stroke=\"transparent\" points=\"-4,4 -4,-226 294,-226 294,4 -4,4\"/>\n<g id=\"clust1\" class=\"cluster\">\n<title>cluster_components</title>\n<polygon fill=\"none\" stroke=\"#000000\" points=\"136,-83 136,-158 282,-158 282,-83 136,-83\"/>\n<text text-anchor=\"middle\" x=\"239\" y=\"-90.8\" font-family=\"Times,serif\" font-size=\"14.00\" fill=\"#000000\">components</text>\n</g>\n<g id=\"clust2\" class=\"cluster\">\n<title>cluster_data</title>\n<polygon fill=\"none\" stroke=\"#000000\" points=\"8,-8 8,-158 128,-158 128,-8 8,-8\"/>\n<text text-anchor=\"middle\" x=\"108\" y=\"-15.8\" font-family=\"Times,serif\" font-size=\"14.00\" fill=\"#000000\">data</text>\n</g>\n<!-- weights -->\n<g id=\"node1\" class=\"node\">\n<title>weights</title>\n<ellipse fill=\"#ffffff\" stroke=\"#000000\" cx=\"68\" cy=\"-204\" rx=\"39.7935\" ry=\"18\"/>\n<text text-anchor=\"middle\" x=\"68\" y=\"-200.3\" font-family=\"Times,serif\" font-size=\"14.00\" fill=\"#000000\">weights</text>\n</g>\n<!-- assignment -->\n<g id=\"node4\" class=\"node\">\n<title>assignment</title>\n<ellipse fill=\"#ffffff\" stroke=\"#000000\" cx=\"68\" cy=\"-132\" rx=\"51.9908\" ry=\"18\"/>\n<text text-anchor=\"middle\" x=\"68\" y=\"-128.3\" font-family=\"Times,serif\" font-size=\"14.00\" fill=\"#000000\">assignment</text>\n</g>\n<!-- weights&#45;&gt;assignment -->\n<g id=\"edge1\" class=\"edge\">\n<title>weights&#45;&gt;assignment</title>\n<path fill=\"none\" stroke=\"#000000\" d=\"M68,-185.8314C68,-178.131 68,-168.9743 68,-160.4166\"/>\n<polygon fill=\"#000000\" stroke=\"#000000\" points=\"71.5001,-160.4132 68,-150.4133 64.5001,-160.4133 71.5001,-160.4132\"/>\n</g>\n<!-- locs -->\n<g id=\"node2\" class=\"node\">\n<title>locs</title>\n<ellipse fill=\"#ffffff\" stroke=\"#000000\" cx=\"247\" cy=\"-132\" rx=\"27\" ry=\"18\"/>\n<text text-anchor=\"middle\" x=\"247\" y=\"-128.3\" font-family=\"Times,serif\" font-size=\"14.00\" fill=\"#000000\">locs</text>\n</g>\n<!-- obs -->\n<g id=\"node5\" class=\"node\">\n<title>obs</title>\n<ellipse fill=\"#c0c0c0\" stroke=\"#000000\" cx=\"93\" cy=\"-57\" rx=\"27\" ry=\"18\"/>\n<text text-anchor=\"middle\" x=\"93\" y=\"-53.3\" font-family=\"Times,serif\" font-size=\"14.00\" fill=\"#000000\">obs</text>\n</g>\n<!-- locs&#45;&gt;obs -->\n<g id=\"edge2\" class=\"edge\">\n<title>locs&#45;&gt;obs</title>\n<path fill=\"none\" stroke=\"#000000\" d=\"M238.3419,-114.479C232.1628,-103.7802 222.8549,-90.7166 211,-83 197.7108,-74.3499 158.9673,-66.8492 129.4668,-62.1569\"/>\n<polygon fill=\"#000000\" stroke=\"#000000\" points=\"129.8909,-58.681 119.4745,-60.617 128.8247,-65.5994 129.8909,-58.681\"/>\n</g>\n<!-- scale -->\n<g id=\"node3\" class=\"node\">\n<title>scale</title>\n<ellipse fill=\"#ffffff\" stroke=\"#000000\" cx=\"173\" cy=\"-132\" rx=\"28.6953\" ry=\"18\"/>\n<text text-anchor=\"middle\" x=\"173\" y=\"-128.3\" font-family=\"Times,serif\" font-size=\"14.00\" fill=\"#000000\">scale</text>\n</g>\n<!-- scale&#45;&gt;obs -->\n<g id=\"edge4\" class=\"edge\">\n<title>scale&#45;&gt;obs</title>\n<path fill=\"none\" stroke=\"#000000\" d=\"M161.133,-115.5284C153.4605,-105.4974 142.9005,-92.7752 132,-83 128.7967,-80.1274 125.2529,-77.3322 121.6459,-74.7051\"/>\n<polygon fill=\"#000000\" stroke=\"#000000\" points=\"123.467,-71.7096 113.2453,-68.9226 119.498,-77.4757 123.467,-71.7096\"/>\n</g>\n<!-- assignment&#45;&gt;obs -->\n<g id=\"edge3\" class=\"edge\">\n<title>assignment&#45;&gt;obs</title>\n<path fill=\"none\" stroke=\"#000000\" d=\"M74.0518,-113.8446C76.9905,-105.0285 80.584,-94.248 83.8485,-84.4544\"/>\n<polygon fill=\"#000000\" stroke=\"#000000\" points=\"87.2482,-85.3231 87.0902,-74.7294 80.6075,-83.1094 87.2482,-85.3231\"/>\n</g>\n</g>\n</svg>\n"
          },
          "metadata": {},
          "execution_count": 7
        }
      ]
    },
    {
      "cell_type": "code",
      "source": [
        "from pyro.infer import MCMC, NUTS\n",
        "nuts_kernel = NUTS(model)\n",
        "mcmc = MCMC(nuts_kernel, warmup_steps=500, num_samples=3000)\n",
        "mcmc.run(x_train)\n",
        "posterior_samples = mcmc.get_samples()\n"
      ],
      "metadata": {
        "colab": {
          "base_uri": "https://localhost:8080/"
        },
        "id": "oLeGkbyTUGy0",
        "outputId": "504bed6c-ffc1-40c6-c63e-26d002ccb4e0"
      },
      "execution_count": 8,
      "outputs": [
        {
          "output_type": "stream",
          "name": "stderr",
          "text": [
            "Sample: 100%|██████████| 3500/3500 [03:20, 17.50it/s, step size=6.97e-01, acc. prob=0.913]\n"
          ]
        }
      ]
    },
    {
      "cell_type": "code",
      "source": [
        "print(posterior_samples['locs'].mean(dim=0))\n",
        "print(posterior_samples['scale'].mean(dim=0))"
      ],
      "metadata": {
        "colab": {
          "base_uri": "https://localhost:8080/"
        },
        "id": "nEQ0DkESUM66",
        "outputId": "426563ab-b67b-4c60-87b8-a0ff97592880"
      },
      "execution_count": 9,
      "outputs": [
        {
          "output_type": "stream",
          "name": "stdout",
          "text": [
            "tensor([-0.9823,  0.9941])\n",
            "tensor([0.2962, 0.1030])\n"
          ]
        }
      ]
    }
  ]
}