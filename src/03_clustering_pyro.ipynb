{
  "nbformat": 4,
  "nbformat_minor": 0,
  "metadata": {
    "colab": {
      "name": "03-clustering-pyro.ipynb",
      "provenance": [],
      "collapsed_sections": []
    },
    "kernelspec": {
      "name": "python3",
      "display_name": "Python 3"
    },
    "language_info": {
      "name": "python"
    }
  },
  "cells": [
    {
      "cell_type": "code",
      "execution_count": 1,
      "metadata": {
        "colab": {
          "base_uri": "https://localhost:8080/"
        },
        "id": "c0UQcMO7-5FM",
        "outputId": "d17ac322-8976-4f5f-f881-75be71a90f0a"
      },
      "outputs": [
        {
          "output_type": "stream",
          "name": "stdout",
          "text": [
            "Requirement already satisfied: pyro-ppl in /usr/local/lib/python3.7/dist-packages (1.8.0)\n",
            "Requirement already satisfied: numpy>=1.7 in /usr/local/lib/python3.7/dist-packages (from pyro-ppl) (1.19.5)\n",
            "Requirement already satisfied: torch>=1.9.0 in /usr/local/lib/python3.7/dist-packages (from pyro-ppl) (1.10.0+cu111)\n",
            "Requirement already satisfied: tqdm>=4.36 in /usr/local/lib/python3.7/dist-packages (from pyro-ppl) (4.62.3)\n",
            "Requirement already satisfied: pyro-api>=0.1.1 in /usr/local/lib/python3.7/dist-packages (from pyro-ppl) (0.1.2)\n",
            "Requirement already satisfied: opt-einsum>=2.3.2 in /usr/local/lib/python3.7/dist-packages (from pyro-ppl) (3.3.0)\n",
            "Requirement already satisfied: typing-extensions in /usr/local/lib/python3.7/dist-packages (from torch>=1.9.0->pyro-ppl) (3.10.0.2)\n"
          ]
        }
      ],
      "source": [
        "!pip3 install pyro-ppl "
      ]
    },
    {
      "cell_type": "code",
      "source": [
        "import os\n",
        "import torch\n",
        "import pyro\n",
        "import logging\n",
        "import matplotlib.pyplot as plt"
      ],
      "metadata": {
        "id": "9D1rJRWW_EMQ"
      },
      "execution_count": 2,
      "outputs": []
    },
    {
      "cell_type": "code",
      "source": [
        "%matplotlib inline\n",
        "plt.style.use('default')\n",
        "logging.basicConfig(format='%(message)s', level=logging.INFO)"
      ],
      "metadata": {
        "id": "43nO18He_GLk"
      },
      "execution_count": 3,
      "outputs": []
    },
    {
      "cell_type": "markdown",
      "source": [
        "## Generate artificial data set\n"
      ],
      "metadata": {
        "id": "zvKgRPml_U-f"
      }
    },
    {
      "cell_type": "code",
      "source": [
        "import numpy as np\n",
        "import matplotlib.pyplot as plt\n",
        "\n",
        "N = 500  # number of data points\n",
        "K = 2  # number of components\n",
        "D = 2  # dimensionality of data\n",
        "\n",
        "pi = np.array([0.4, 0.6])\n",
        "mus = [[1, 1], [-1, -1]]\n",
        "stds = [[0.1, 0.1], [0.1, 0.1]]\n",
        "x_train = np.zeros((N, 2), dtype=np.float32)\n",
        "for n in range(N):\n",
        "  k = np.argmax(np.random.multinomial(1, pi))\n",
        "  x_train[n, :] = np.random.multivariate_normal(mus[k], np.diag(stds[k]))\n",
        "\n",
        "x_train = torch.tensor(x_train, dtype=torch.float)"
      ],
      "metadata": {
        "id": "5DKWzvTj_I4T"
      },
      "execution_count": 4,
      "outputs": []
    },
    {
      "cell_type": "code",
      "source": [
        "plt.scatter(x_train[:, 0], x_train[:, 1])\n",
        "plt.axis([-3, 3, -3, 3])\n",
        "plt.title(\"Simulated dataset\")\n",
        "plt.show()"
      ],
      "metadata": {
        "colab": {
          "base_uri": "https://localhost:8080/",
          "height": 452
        },
        "id": "NHKVJy6F_cL6",
        "outputId": "765e8c4b-c257-42d5-c8b3-356512622502"
      },
      "execution_count": 5,
      "outputs": [
        {
          "output_type": "display_data",
          "data": {
            "image/png": "[encoded data removed]",
            "text/plain": [
              "<Figure size 640x480 with 1 Axes>"
            ]
          },
          "metadata": {}
        }
      ]
    },
    {
      "cell_type": "code",
      "source": [
        ""
      ],
      "metadata": {
        "id": "3EDkIPsIaLFm"
      },
      "execution_count": 5,
      "outputs": []
    },
    {
      "cell_type": "code",
      "source": [
        "import pyro.distributions as dist\n",
        "\n",
        "def model(data):\n",
        "    weights = pyro.sample('weights', dist.Dirichlet(torch.ones(K)))\n",
        "\n",
        "    with pyro.plate(\"components\", K):\n",
        "        locs = pyro.sample(\"locs\", dist.MultivariateNormal(torch.zeros(2), 2 * torch.eye(2)))\n",
        "\n",
        "    with pyro.plate(\"data\", len(data)):\n",
        "        assignment = pyro.sample(\"assignment\", dist.Categorical(weights))\n",
        "        pyro.sample(\"obs\", dist.MultivariateNormal(locs[assignment], 0.1 * torch.eye(2)), obs=data)\n",
        "\n",
        "pyro.render_model(model, model_args=(x_train,))"
      ],
      "metadata": {
        "id": "T2-vwqHx_jHh",
        "colab": {
          "base_uri": "https://localhost:8080/",
          "height": 328
        },
        "outputId": "d5fa4c99-97c9-4c23-c6e9-b4667b52252e"
      },
      "execution_count": 6,
      "outputs": [
        {
          "output_type": "execute_result",
          "data": {
            "text/plain": [
              "<graphviz.dot.Digraph at 0x7fdd51e33d50>"
            ],
            "image/svg+xml": "<?xml version=\"1.0\" encoding=\"UTF-8\" standalone=\"no\"?>\n<!DOCTYPE svg PUBLIC \"-//W3C//DTD SVG 1.1//EN\"\n \"http://www.w3.org/Graphics/SVG/1.1/DTD/svg11.dtd\">\n<!-- Generated by graphviz version 2.40.1 (20161225.0304)\n -->\n<!-- Title: %3 Pages: 1 -->\n<svg width=\"238pt\" height=\"230pt\"\n viewBox=\"0.00 0.00 238.00 230.00\" xmlns=\"http://www.w3.org/2000/svg\" xmlns:xlink=\"http://www.w3.org/1999/xlink\">\n<g id=\"graph0\" class=\"graph\" transform=\"scale(1 1) rotate(0) translate(4 226)\">\n<title>%3</title>\n<polygon fill=\"#ffffff\" stroke=\"transparent\" points=\"-4,4 -4,-226 234,-226 234,4 -4,4\"/>\n<g id=\"clust1\" class=\"cluster\">\n<title>cluster_components</title>\n<polygon fill=\"none\" stroke=\"#000000\" points=\"136,-83 136,-158 222,-158 222,-83 136,-83\"/>\n<text text-anchor=\"middle\" x=\"179\" y=\"-90.8\" font-family=\"Times,serif\" font-size=\"14.00\" fill=\"#000000\">components</text>\n</g>\n<g id=\"clust2\" class=\"cluster\">\n<title>cluster_data</title>\n<polygon fill=\"none\" stroke=\"#000000\" points=\"8,-8 8,-158 128,-158 128,-8 8,-8\"/>\n<text text-anchor=\"middle\" x=\"108\" y=\"-15.8\" font-family=\"Times,serif\" font-size=\"14.00\" fill=\"#000000\">data</text>\n</g>\n<!-- weights -->\n<g id=\"node1\" class=\"node\">\n<title>weights</title>\n<ellipse fill=\"#ffffff\" stroke=\"#000000\" cx=\"68\" cy=\"-204\" rx=\"39.7935\" ry=\"18\"/>\n<text text-anchor=\"middle\" x=\"68\" y=\"-200.3\" font-family=\"Times,serif\" font-size=\"14.00\" fill=\"#000000\">weights</text>\n</g>\n<!-- assignment -->\n<g id=\"node3\" class=\"node\">\n<title>assignment</title>\n<ellipse fill=\"#ffffff\" stroke=\"#000000\" cx=\"68\" cy=\"-132\" rx=\"51.9908\" ry=\"18\"/>\n<text text-anchor=\"middle\" x=\"68\" y=\"-128.3\" font-family=\"Times,serif\" font-size=\"14.00\" fill=\"#000000\">assignment</text>\n</g>\n<!-- weights&#45;&gt;assignment -->\n<g id=\"edge1\" class=\"edge\">\n<title>weights&#45;&gt;assignment</title>\n<path fill=\"none\" stroke=\"#000000\" d=\"M68,-185.8314C68,-178.131 68,-168.9743 68,-160.4166\"/>\n<polygon fill=\"#000000\" stroke=\"#000000\" points=\"71.5001,-160.4132 68,-150.4133 64.5001,-160.4133 71.5001,-160.4132\"/>\n</g>\n<!-- locs -->\n<g id=\"node2\" class=\"node\">\n<title>locs</title>\n<ellipse fill=\"#ffffff\" stroke=\"#000000\" cx=\"171\" cy=\"-132\" rx=\"27\" ry=\"18\"/>\n<text text-anchor=\"middle\" x=\"171\" y=\"-128.3\" font-family=\"Times,serif\" font-size=\"14.00\" fill=\"#000000\">locs</text>\n</g>\n<!-- obs -->\n<g id=\"node4\" class=\"node\">\n<title>obs</title>\n<ellipse fill=\"#c0c0c0\" stroke=\"#000000\" cx=\"80\" cy=\"-57\" rx=\"27\" ry=\"18\"/>\n<text text-anchor=\"middle\" x=\"80\" y=\"-53.3\" font-family=\"Times,serif\" font-size=\"14.00\" fill=\"#000000\">obs</text>\n</g>\n<!-- locs&#45;&gt;obs -->\n<g id=\"edge3\" class=\"edge\">\n<title>locs&#45;&gt;obs</title>\n<path fill=\"none\" stroke=\"#000000\" d=\"M160.2615,-115.0085C153.1701,-104.7817 143.1496,-92.0365 132,-83 126.1778,-78.2812 119.3586,-74.1125 112.6104,-70.5718\"/>\n<polygon fill=\"#000000\" stroke=\"#000000\" points=\"114.0735,-67.3912 103.5528,-66.14 110.9969,-73.6789 114.0735,-67.3912\"/>\n</g>\n<!-- assignment&#45;&gt;obs -->\n<g id=\"edge2\" class=\"edge\">\n<title>assignment&#45;&gt;obs</title>\n<path fill=\"none\" stroke=\"#000000\" d=\"M70.9049,-113.8446C72.2904,-105.1849 73.9792,-94.6301 75.5237,-84.9768\"/>\n<polygon fill=\"#000000\" stroke=\"#000000\" points=\"78.9979,-85.4156 77.1219,-74.9882 72.0859,-84.3096 78.9979,-85.4156\"/>\n</g>\n</g>\n</svg>\n"
          },
          "metadata": {},
          "execution_count": 6
        }
      ]
    },
    {
      "cell_type": "code",
      "source": [
        "from pyro.infer import MCMC, NUTS\n",
        "nuts_kernel = NUTS(model)\n",
        "mcmc = MCMC(nuts_kernel, warmup_steps=500, num_samples=2000)\n",
        "mcmc.run(x_train)\n",
        "posterior_samples = mcmc.get_samples()"
      ],
      "metadata": {
        "colab": {
          "base_uri": "https://localhost:8080/"
        },
        "id": "oLeGkbyTUGy0",
        "outputId": "7c1ee829-1939-4828-ead9-321ed848c422"
      },
      "execution_count": 7,
      "outputs": [
        {
          "output_type": "stream",
          "name": "stderr",
          "text": [
            "Sample: 100%|██████████| 2500/2500 [01:48, 23.00it/s, step size=6.45e-01, acc. prob=0.930]\n"
          ]
        }
      ]
    },
    {
      "cell_type": "code",
      "source": [
        "print(posterior_samples['locs'].mean(dim=0))"
      ],
      "metadata": {
        "colab": {
          "base_uri": "https://localhost:8080/"
        },
        "id": "nEQ0DkESUM66",
        "outputId": "8f41d094-1f0b-4465-c820-de0891b75480"
      },
      "execution_count": 10,
      "outputs": [
        {
          "output_type": "stream",
          "name": "stdout",
          "text": [
            "tensor([[-0.9767, -0.9929],\n",
            "        [ 1.0089,  1.0445]])\n"
          ]
        }
      ]
    },
    {
      "cell_type": "code",
      "source": [
        ""
      ],
      "metadata": {
        "id": "sxpBAwGZqxeH"
      },
      "execution_count": null,
      "outputs": []
    }
  ]
}