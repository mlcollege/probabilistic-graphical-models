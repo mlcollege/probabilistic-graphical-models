{
  "nbformat": 4,
  "nbformat_minor": 0,
  "metadata": {
    "colab": {
      "name": "01-Generative-linear-regression-pyro.ipynb",
      "provenance": []
    },
    "kernelspec": {
      "name": "python3",
      "display_name": "Python 3"
    },
    "language_info": {
      "name": "python"
    }
  },
  "cells": [
    {
      "cell_type": "code",
      "execution_count": 1,
      "metadata": {
        "colab": {
          "base_uri": "https://localhost:8080/"
        },
        "id": "SjUBo1o9ka4o",
        "outputId": "9b33da00-2313-4f69-df24-f6438d841bae"
      },
      "outputs": [
        {
          "output_type": "stream",
          "name": "stdout",
          "text": [
            "Requirement already satisfied: pyro-ppl in /usr/local/lib/python3.7/dist-packages (1.8.0)\n",
            "Requirement already satisfied: torch>=1.9.0 in /usr/local/lib/python3.7/dist-packages (from pyro-ppl) (1.10.0+cu111)\n",
            "Requirement already satisfied: pyro-api>=0.1.1 in /usr/local/lib/python3.7/dist-packages (from pyro-ppl) (0.1.2)\n",
            "Requirement already satisfied: tqdm>=4.36 in /usr/local/lib/python3.7/dist-packages (from pyro-ppl) (4.62.3)\n",
            "Requirement already satisfied: opt-einsum>=2.3.2 in /usr/local/lib/python3.7/dist-packages (from pyro-ppl) (3.3.0)\n",
            "Requirement already satisfied: numpy>=1.7 in /usr/local/lib/python3.7/dist-packages (from pyro-ppl) (1.19.5)\n",
            "Requirement already satisfied: typing-extensions in /usr/local/lib/python3.7/dist-packages (from torch>=1.9.0->pyro-ppl) (3.10.0.2)\n"
          ]
        }
      ],
      "source": [
        "!pip3 install pyro-ppl "
      ]
    },
    {
      "cell_type": "code",
      "source": [
        "import os\n",
        "import torch\n",
        "import pyro\n",
        "import logging\n",
        "import matplotlib.pyplot as plt\n"
      ],
      "metadata": {
        "id": "48LcdzZKke9U"
      },
      "execution_count": 2,
      "outputs": []
    },
    {
      "cell_type": "code",
      "source": [
        "%matplotlib inline\n",
        "plt.style.use('default')\n",
        "logging.basicConfig(format='%(message)s', level=logging.INFO)"
      ],
      "metadata": {
        "id": "xf50FNGrBj4T"
      },
      "execution_count": 3,
      "outputs": []
    },
    {
      "cell_type": "markdown",
      "source": [
        "## Generate artificial data set"
      ],
      "metadata": {
        "id": "jlmaDEFSZinK"
      }
    },
    {
      "cell_type": "code",
      "source": [
        "import numpy as np\n",
        "\n",
        "#y = ax + b\n",
        "noise_std = 1.0\n",
        "a = 4.0\n",
        "b = -2.0\n",
        "train_samples = 5000\n",
        "\n",
        "X_train = np.random.uniform(low = -5, high = 5, size = train_samples)\n",
        "y_train = np.dot(X_train, a) + b + np.random.normal(0, noise_std, size=train_samples)\n",
        "\n",
        "X_train = torch.tensor(X_train, dtype=torch.float)\n",
        "y_train = torch.tensor(y_train, dtype=torch.float)"
      ],
      "metadata": {
        "id": "GPm1VA4jB3sZ"
      },
      "execution_count": 5,
      "outputs": []
    },
    {
      "cell_type": "code",
      "source": [
        "import matplotlib.pyplot as plt\n",
        "plt.scatter(X_train[:20], y_train[:20])\n",
        "plt.plot(X_train[:20], np.dot(X_train[:20], a) + b)\n",
        "plt.xlabel('x value')\n",
        "plt.ylabel('y value')\n",
        "plt.show()"
      ],
      "metadata": {
        "colab": {
          "base_uri": "https://localhost:8080/",
          "height": 449
        },
        "id": "fgvEdh2IZl1b",
        "outputId": "4f50626d-1fec-420e-93ea-10c28d357c05"
      },
      "execution_count": 6,
      "outputs": [
        {
          "output_type": "display_data",
          "data": {
            "image/png": "[encoded data removed]",
            "text/plain": [
              "<Figure size 640x480 with 1 Axes>"
            ]
          },
          "metadata": {}
        }
      ]
    },
    {
      "cell_type": "code",
      "source": [
        "import pyro.distributions as dist\n",
        "\n",
        "print (X_train.shape)\n",
        "\n",
        "def model(X_train, y_train):\n",
        "    a = pyro.sample(\"a\", dist.Normal(0., 1.))\n",
        "    b = pyro.sample(\"b\", dist.Normal(0., 10.))\n",
        "    \n",
        "    sigma = pyro.sample(\"sigma\", dist.Uniform(0., 5.))\n",
        "    mean = a*X_train + b\n",
        "\n",
        "    with pyro.plate(\"data\", len(X_train)):\n",
        "        return pyro.sample(\"obs\", dist.Normal(mean, sigma), obs=y_train)"
      ],
      "metadata": {
        "id": "WGAKci6nZyi0",
        "colab": {
          "base_uri": "https://localhost:8080/"
        },
        "outputId": "e09ad12b-965f-4e6c-ad3d-387c506559a1"
      },
      "execution_count": 14,
      "outputs": [
        {
          "output_type": "stream",
          "name": "stdout",
          "text": [
            "torch.Size([5000])\n"
          ]
        }
      ]
    },
    {
      "cell_type": "code",
      "source": [
        "pyro.render_model(model, model_args=(X_train, y_train))"
      ],
      "metadata": {
        "colab": {
          "base_uri": "https://localhost:8080/",
          "height": 228
        },
        "id": "UzBeC1LMcRmk",
        "outputId": "2b1c9276-5afe-469a-b865-d7e539334506"
      },
      "execution_count": 8,
      "outputs": [
        {
          "output_type": "execute_result",
          "data": {
            "text/plain": [
              "<graphviz.dot.Digraph at 0x7f4e6bba4250>"
            ],
            "image/svg+xml": "<?xml version=\"1.0\" encoding=\"UTF-8\" standalone=\"no\"?>\n<!DOCTYPE svg PUBLIC \"-//W3C//DTD SVG 1.1//EN\"\n \"http://www.w3.org/Graphics/SVG/1.1/DTD/svg11.dtd\">\n<!-- Generated by graphviz version 2.40.1 (20161225.0304)\n -->\n<!-- Title: %3 Pages: 1 -->\n<svg width=\"216pt\" height=\"155pt\"\n viewBox=\"0.00 0.00 216.50 155.00\" xmlns=\"http://www.w3.org/2000/svg\" xmlns:xlink=\"http://www.w3.org/1999/xlink\">\n<g id=\"graph0\" class=\"graph\" transform=\"scale(1 1) rotate(0) translate(4 151)\">\n<title>%3</title>\n<polygon fill=\"#ffffff\" stroke=\"transparent\" points=\"-4,4 -4,-151 212.4971,-151 212.4971,4 -4,4\"/>\n<g id=\"clust1\" class=\"cluster\">\n<title>cluster_data</title>\n<polygon fill=\"none\" stroke=\"#000000\" points=\"64,-8 64,-83 134,-83 134,-8 64,-8\"/>\n<text text-anchor=\"middle\" x=\"114\" y=\"-15.8\" font-family=\"Times,serif\" font-size=\"14.00\" fill=\"#000000\">data</text>\n</g>\n<!-- a -->\n<g id=\"node1\" class=\"node\">\n<title>a</title>\n<ellipse fill=\"#ffffff\" stroke=\"#000000\" cx=\"27\" cy=\"-129\" rx=\"27\" ry=\"18\"/>\n<text text-anchor=\"middle\" x=\"27\" y=\"-125.3\" font-family=\"Times,serif\" font-size=\"14.00\" fill=\"#000000\">a</text>\n</g>\n<!-- obs -->\n<g id=\"node4\" class=\"node\">\n<title>obs</title>\n<ellipse fill=\"#c0c0c0\" stroke=\"#000000\" cx=\"99\" cy=\"-57\" rx=\"27\" ry=\"18\"/>\n<text text-anchor=\"middle\" x=\"99\" y=\"-53.3\" font-family=\"Times,serif\" font-size=\"14.00\" fill=\"#000000\">obs</text>\n</g>\n<!-- a&#45;&gt;obs -->\n<g id=\"edge2\" class=\"edge\">\n<title>a&#45;&gt;obs</title>\n<path fill=\"none\" stroke=\"#000000\" d=\"M42.2693,-113.7307C52.197,-103.803 65.3153,-90.6847 76.4363,-79.5637\"/>\n<polygon fill=\"#000000\" stroke=\"#000000\" points=\"79.1564,-81.7933 83.7527,-72.2473 74.2067,-76.8436 79.1564,-81.7933\"/>\n</g>\n<!-- b -->\n<g id=\"node2\" class=\"node\">\n<title>b</title>\n<ellipse fill=\"#ffffff\" stroke=\"#000000\" cx=\"99\" cy=\"-129\" rx=\"27\" ry=\"18\"/>\n<text text-anchor=\"middle\" x=\"99\" y=\"-125.3\" font-family=\"Times,serif\" font-size=\"14.00\" fill=\"#000000\">b</text>\n</g>\n<!-- b&#45;&gt;obs -->\n<g id=\"edge1\" class=\"edge\">\n<title>b&#45;&gt;obs</title>\n<path fill=\"none\" stroke=\"#000000\" d=\"M99,-110.8314C99,-103.131 99,-93.9743 99,-85.4166\"/>\n<polygon fill=\"#000000\" stroke=\"#000000\" points=\"102.5001,-85.4132 99,-75.4133 95.5001,-85.4133 102.5001,-85.4132\"/>\n</g>\n<!-- sigma -->\n<g id=\"node3\" class=\"node\">\n<title>sigma</title>\n<ellipse fill=\"#ffffff\" stroke=\"#000000\" cx=\"176\" cy=\"-129\" rx=\"32.4942\" ry=\"18\"/>\n<text text-anchor=\"middle\" x=\"176\" y=\"-125.3\" font-family=\"Times,serif\" font-size=\"14.00\" fill=\"#000000\">sigma</text>\n</g>\n<!-- sigma&#45;&gt;obs -->\n<g id=\"edge3\" class=\"edge\">\n<title>sigma&#45;&gt;obs</title>\n<path fill=\"none\" stroke=\"#000000\" d=\"M159.2921,-113.3771C148.4797,-103.2667 134.2481,-89.9592 122.3269,-78.8122\"/>\n<polygon fill=\"#000000\" stroke=\"#000000\" points=\"124.5806,-76.1278 114.8859,-71.8543 119.7996,-81.2408 124.5806,-76.1278\"/>\n</g>\n</g>\n</svg>\n"
          },
          "metadata": {},
          "execution_count": 8
        }
      ]
    },
    {
      "cell_type": "markdown",
      "source": [
        "## Variational inference"
      ],
      "metadata": {
        "id": "zK2F_OJ13y4Z"
      }
    },
    {
      "cell_type": "code",
      "source": [
        "auto_guide = pyro.infer.autoguide.AutoNormal(model)\n",
        "adam = pyro.optim.Adam({\"lr\": 0.002})\n",
        "elbo = pyro.infer.Trace_ELBO()\n",
        "svi = pyro.infer.SVI(model, auto_guide, adam, elbo)"
      ],
      "metadata": {
        "id": "LSE2Onbodbb7"
      },
      "execution_count": 9,
      "outputs": []
    },
    {
      "cell_type": "code",
      "source": [
        "pyro.clear_param_store()\n",
        "losses = []\n",
        "for step in range(5000):\n",
        "    loss = svi.step(X_train, y_train)\n",
        "    losses.append(loss)\n",
        "    if step % 100 == 0:\n",
        "        logging.info(\"Elbo loss: {}\".format(loss))\n",
        "\n",
        "plt.figure(figsize=(5, 2))\n",
        "plt.plot(losses)\n",
        "plt.xlabel(\"SVI step\")\n",
        "plt.ylabel(\"ELBO loss\");"
      ],
      "metadata": {
        "colab": {
          "base_uri": "https://localhost:8080/",
          "height": 1000
        },
        "id": "itvcjEuGqPw_",
        "outputId": "06d1e74f-5622-4cc8-e854-3a5929423a7b"
      },
      "execution_count": 10,
      "outputs": [
        {
          "output_type": "stream",
          "name": "stderr",
          "text": [
            "Elbo loss: 70958.29556417465\n",
            "Elbo loss: 49847.43044382334\n",
            "Elbo loss: 47247.056391596794\n",
            "Elbo loss: 35986.99921286106\n",
            "Elbo loss: 33810.0358966589\n",
            "Elbo loss: 28433.103819847107\n",
            "Elbo loss: 27536.09386229515\n",
            "Elbo loss: 25362.007328629494\n",
            "Elbo loss: 23357.303773641586\n",
            "Elbo loss: 22358.381481289864\n",
            "Elbo loss: 20876.09664416313\n",
            "Elbo loss: 20094.95322906971\n",
            "Elbo loss: 18771.765876173973\n",
            "Elbo loss: 19056.456441521645\n",
            "Elbo loss: 17391.275472044945\n",
            "Elbo loss: 17473.392042040825\n",
            "Elbo loss: 16210.069234967232\n",
            "Elbo loss: 14966.777783989906\n",
            "Elbo loss: 15580.758277893066\n",
            "Elbo loss: 15021.080682992935\n",
            "Elbo loss: 14389.97775042057\n",
            "Elbo loss: 13891.383989930153\n",
            "Elbo loss: 13760.00618159771\n",
            "Elbo loss: 13686.481855750084\n",
            "Elbo loss: 13163.817154288292\n",
            "Elbo loss: 13275.190660476685\n",
            "Elbo loss: 13139.638199448586\n",
            "Elbo loss: 12315.809720873833\n",
            "Elbo loss: 12149.273030519485\n",
            "Elbo loss: 12260.702964425087\n",
            "Elbo loss: 12205.17909348011\n",
            "Elbo loss: 11855.781104803085\n",
            "Elbo loss: 11838.991833209991\n",
            "Elbo loss: 11623.414092183113\n",
            "Elbo loss: 11640.273553013802\n",
            "Elbo loss: 11514.682365655899\n",
            "Elbo loss: 11408.735537648201\n",
            "Elbo loss: 11139.289826750755\n",
            "Elbo loss: 11048.49349117279\n",
            "Elbo loss: 10850.160390377045\n",
            "Elbo loss: 10717.719022393227\n",
            "Elbo loss: 10512.271532773972\n",
            "Elbo loss: 9972.27206838131\n",
            "Elbo loss: 10124.604370713234\n",
            "Elbo loss: 9678.39926457405\n",
            "Elbo loss: 9293.858855843544\n",
            "Elbo loss: 9213.964056611061\n",
            "Elbo loss: 8486.114464402199\n",
            "Elbo loss: 8088.970815420151\n",
            "Elbo loss: 7930.583117485046\n"
          ]
        },
        {
          "output_type": "display_data",
          "data": {
            "image/png": "[encoded data removed]",
            "text/plain": [
              "<Figure size 500x200 with 1 Axes>"
            ]
          },
          "metadata": {}
        }
      ]
    },
    {
      "cell_type": "code",
      "source": [
        "for name, value in pyro.get_param_store().items():\n",
        "    print(name, pyro.param(name).data.cpu().numpy())"
      ],
      "metadata": {
        "colab": {
          "base_uri": "https://localhost:8080/"
        },
        "id": "YbRmfyrFqkCi",
        "outputId": "6471b821-5de6-444c-a892-fac0a1c8a7ea"
      },
      "execution_count": 11,
      "outputs": [
        {
          "output_type": "stream",
          "name": "stdout",
          "text": [
            "AutoNormal.locs.a 4.005273\n",
            "AutoNormal.scales.a 0.059399\n",
            "AutoNormal.locs.b -2.0173588\n",
            "AutoNormal.scales.b 0.045104947\n",
            "AutoNormal.locs.sigma -0.86132807\n",
            "AutoNormal.scales.sigma 0.09090831\n"
          ]
        }
      ]
    },
    {
      "cell_type": "markdown",
      "source": [
        "## MCMC Inference\n"
      ],
      "metadata": {
        "id": "fvi9QmBgzKEB"
      }
    },
    {
      "cell_type": "code",
      "source": [
        "from pyro.infer import MCMC, NUTS\n",
        "nuts_kernel = NUTS(model)\n",
        "mcmc = MCMC(nuts_kernel, warmup_steps=1000, num_samples=5000)\n",
        "mcmc.run(X_train, y_train)\n",
        "posterior_samples = mcmc.get_samples()\n"
      ],
      "metadata": {
        "id": "LL91PMOJq5lz",
        "colab": {
          "base_uri": "https://localhost:8080/"
        },
        "outputId": "a28fe71e-5a05-4eb7-ea4c-c32706f24526"
      },
      "execution_count": 12,
      "outputs": [
        {
          "output_type": "stream",
          "name": "stderr",
          "text": [
            "Sample: 100%|██████████| 6000/6000 [01:19, 75.53it/s, step size=7.23e-01, acc. prob=0.921]\n"
          ]
        }
      ]
    },
    {
      "cell_type": "code",
      "source": [
        "print(posterior_samples['a'].mean())\n",
        "print(posterior_samples['b'].mean())"
      ],
      "metadata": {
        "colab": {
          "base_uri": "https://localhost:8080/"
        },
        "id": "_A1sIxXj1uWD",
        "outputId": "f6d4475d-d753-4bf5-8682-f58cf9e5d260"
      },
      "execution_count": 13,
      "outputs": [
        {
          "output_type": "stream",
          "name": "stdout",
          "text": [
            "tensor(4.0061)\n",
            "tensor(-2.0065)\n"
          ]
        }
      ]
    }
  ]
}